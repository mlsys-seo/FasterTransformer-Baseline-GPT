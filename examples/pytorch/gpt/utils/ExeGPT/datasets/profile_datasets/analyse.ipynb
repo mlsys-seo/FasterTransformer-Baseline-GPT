{
 "cells": [
  {
   "cell_type": "code",
   "execution_count": 1,
   "metadata": {},
   "outputs": [],
   "source": [
    "import numpy as np\n",
    "import pandas as pd\n",
    "from scipy.stats import truncnorm, norm\n",
    "import matplotlib.pyplot as plt"
   ]
  },
  {
   "cell_type": "code",
   "execution_count": 8,
   "metadata": {},
   "outputs": [
    {
     "name": "stdout",
     "output_type": "stream",
     "text": [
      "Index(['MBPP_input_len', 'MBPP_output_len', 'CNN_input_seq', 'CNN_output_seq',\n",
      "       'WMT_CS_input_len', 'WMT_CS_output_len', 'PUBMED_input_seq',\n",
      "       'PUBMED_output_seq'],\n",
      "      dtype='object')\n",
      "Value at 99th percentile: 108.15869685102102\n"
     ]
    }
   ],
   "source": [
    "dataset = pd.read_csv(\"./export.csv\")\n",
    "\n",
    "print(dataset.columns)\n",
    "task_dic = {\n",
    "    'MBPP': 'CODE',\n",
    "    'WMT': 'T',\n",
    "    'CNN': 'S',\n",
    "    'PUBMED': 'S',\n",
    "}\n",
    "\n",
    "our_tasks = {\n",
    "    'S': [128, 32],\n",
    "    'T': [128, 128],\n",
    "    'C1': [512, 64],\n",
    "    'C2': [1024, 64],\n",
    "    'C3': [1024, 256],\n",
    "    'CODE': [64, 192],\n",
    "}\n",
    "\n",
    "def get_percentile_value(mean, std, percentile):\n",
    "    percentile_value = norm.ppf(percentile, loc=mean, scale=std)\n",
    "    return percentile_value\n",
    "\n",
    "# Example usage\n",
    "mean = 50\n",
    "variance = 25\n",
    "percentile = 0.99\n",
    "\n",
    "value_at_99_percentile = get_percentile_value(mean, variance, 0.99)\n",
    "print(\"Value at 99th percentile:\", value_at_99_percentile)"
   ]
  },
  {
   "cell_type": "code",
   "execution_count": 9,
   "metadata": {},
   "outputs": [
    {
     "data": {
      "text/plain": [
       "78.43048128342247"
      ]
     },
     "execution_count": 9,
     "metadata": {},
     "output_type": "execute_result"
    }
   ],
   "source": [
    "data_np = dataset['MBPP_input_len'].dropna(how='any').to_numpy()\n",
    "np.mean(data_np)"
   ]
  },
  {
   "cell_type": "code",
   "execution_count": 10,
   "metadata": {},
   "outputs": [],
   "source": [
    "results = []\n",
    "for col_name in dataset.columns:\n",
    "    dataset_name = col_name.split(\"_\")[0]\n",
    "    task = task_dic[dataset_name]\n",
    "    data_np = dataset[col_name].dropna(how='any').to_numpy()\n",
    "\n",
    "    if 'output' in col_name:\n",
    "        is_output = 1\n",
    "    else:\n",
    "        is_output = 0\n",
    "        continue\n",
    "\n",
    "    our_task_mean = our_tasks[task][is_output]\n",
    "    \n",
    "    mean = np.mean(data_np)\n",
    "    std = np.std(data_np)\n",
    "\n",
    "    mean_ratio = our_task_mean/mean\n",
    "    our_task_norm_std = std * mean_ratio\n",
    "\n",
    "    fit_a, fit_b, trancated_mean, trancated_std = truncnorm.fit(data_np)\n",
    "\n",
    "    tranc_mean_ratio = our_task_mean/mean\n",
    "    our_task_tranc_std = trancated_std * tranc_mean_ratio\n",
    "\n",
    "    results.append({\n",
    "        'task': task,\n",
    "        'name': col_name,\n",
    "\n",
    "        \n",
    "\n",
    "        'norm_mean': round(mean,2),\n",
    "        'norm_std': round(std,2),\n",
    "        'trancated_mean': round(trancated_mean,2),\n",
    "        'trancated_std': round(trancated_std,2),\n",
    "\n",
    "        'our_task_mean': our_task_mean,\n",
    "        'our_task_max_2x': our_task_mean*2,\n",
    "        'our_task_max_3x': our_task_mean*3,\n",
    "\n",
    "        'our_task_norm_std': round(our_task_norm_std,2),\n",
    "        'our_task_tranc_std': round(our_task_tranc_std,2),\n",
    "        \n",
    "        'our_task_norm_99': round(get_percentile_value(our_task_mean, our_task_norm_std, 0.99),2),\n",
    "        'our_task_tranc_99': round(get_percentile_value(our_task_mean, our_task_tranc_std, 0.99),2)\n",
    "\n",
    "\n",
    "    })\n",
    "result_pd = pd.DataFrame(results)\n",
    "result_pd.to_csv(\"result.csv\")"
   ]
  },
  {
   "cell_type": "code",
   "execution_count": 42,
   "metadata": {},
   "outputs": [],
   "source": []
  },
  {
   "cell_type": "code",
   "execution_count": 14,
   "metadata": {},
   "outputs": [],
   "source": [
    "dataset_name = 'wmt16'\n",
    "dataset_pd = pd.read_csv(f\"./profiles_{dataset_name}_profiles.csv\", index_col=0)"
   ]
  },
  {
   "cell_type": "code",
   "execution_count": 7,
   "metadata": {},
   "outputs": [
    {
     "data": {
      "text/plain": [
       "(array([1.0000e+00, 5.0000e+00, 4.2000e+01, 2.5300e+02, 4.4100e+02,\n",
       "        8.7900e+02, 7.0900e+02, 7.0300e+02, 9.9000e+02, 1.3660e+03,\n",
       "        1.7440e+03, 3.1320e+03, 4.3200e+03, 4.1720e+03, 3.6050e+03,\n",
       "        4.3290e+03, 5.9670e+03, 8.6160e+03, 1.3055e+04, 1.8070e+04,\n",
       "        1.8702e+04, 1.2202e+04, 1.0441e+04, 1.0028e+04, 1.1020e+04,\n",
       "        1.3046e+04, 1.5891e+04, 1.7610e+04, 1.4655e+04, 1.0870e+04,\n",
       "        9.9180e+03, 9.4580e+03, 9.1460e+03, 9.3970e+03, 8.1700e+03,\n",
       "        6.3960e+03, 4.0790e+03, 3.2310e+03, 3.0790e+03, 3.3240e+03,\n",
       "        3.4810e+03, 3.6130e+03, 3.4970e+03, 2.7830e+03, 2.2420e+03,\n",
       "        1.7320e+03, 1.6050e+03, 1.7510e+03, 1.6790e+03, 1.7010e+03,\n",
       "        1.4970e+03, 1.1790e+03, 1.0030e+03, 1.0120e+03, 9.5900e+02,\n",
       "        9.9300e+02, 7.5900e+02, 6.9900e+02, 5.7700e+02, 5.2800e+02,\n",
       "        4.5100e+02, 4.2500e+02, 4.6800e+02, 3.8700e+02, 3.8300e+02,\n",
       "        2.9300e+02, 3.2200e+02, 2.4100e+02, 2.2400e+02, 2.0000e+02,\n",
       "        1.8700e+02, 1.8300e+02, 1.6500e+02, 1.2700e+02, 1.1900e+02,\n",
       "        1.0500e+02, 1.1800e+02, 9.9000e+01, 8.9000e+01, 8.8000e+01,\n",
       "        6.2000e+01, 6.7000e+01, 5.7000e+01, 5.4000e+01, 4.5000e+01,\n",
       "        4.7000e+01, 5.2000e+01, 2.7000e+01, 3.3000e+01, 2.5000e+01,\n",
       "        3.2000e+01, 2.4000e+01, 1.5000e+01, 2.4000e+01, 2.2000e+01,\n",
       "        2.1000e+01, 1.5000e+01, 1.2000e+01, 1.1000e+01, 1.9000e+01]),\n",
       " array([  14.  ,   24.09,   34.18,   44.27,   54.36,   64.45,   74.54,\n",
       "          84.63,   94.72,  104.81,  114.9 ,  124.99,  135.08,  145.17,\n",
       "         155.26,  165.35,  175.44,  185.53,  195.62,  205.71,  215.8 ,\n",
       "         225.89,  235.98,  246.07,  256.16,  266.25,  276.34,  286.43,\n",
       "         296.52,  306.61,  316.7 ,  326.79,  336.88,  346.97,  357.06,\n",
       "         367.15,  377.24,  387.33,  397.42,  407.51,  417.6 ,  427.69,\n",
       "         437.78,  447.87,  457.96,  468.05,  478.14,  488.23,  498.32,\n",
       "         508.41,  518.5 ,  528.59,  538.68,  548.77,  558.86,  568.95,\n",
       "         579.04,  589.13,  599.22,  609.31,  619.4 ,  629.49,  639.58,\n",
       "         649.67,  659.76,  669.85,  679.94,  690.03,  700.12,  710.21,\n",
       "         720.3 ,  730.39,  740.48,  750.57,  760.66,  770.75,  780.84,\n",
       "         790.93,  801.02,  811.11,  821.2 ,  831.29,  841.38,  851.47,\n",
       "         861.56,  871.65,  881.74,  891.83,  901.92,  912.01,  922.1 ,\n",
       "         932.19,  942.28,  952.37,  962.46,  972.55,  982.64,  992.73,\n",
       "        1002.82, 1012.91, 1023.  ]),\n",
       " <BarContainer object of 100 artists>)"
      ]
     },
     "execution_count": 7,
     "metadata": {},
     "output_type": "execute_result"
    },
    {
     "data": {
      "image/png": "[encoded data removed]",
      "text/plain": [
       "<Figure size 640x480 with 1 Axes>"
      ]
     },
     "metadata": {},
     "output_type": "display_data"
    }
   ],
   "source": [
    "plt.hist(dataset_pd.loc[dataset_pd['output_len']< 1024, 'output_len'], bins=100)"
   ]
  },
  {
   "cell_type": "code",
   "execution_count": 11,
   "metadata": {},
   "outputs": [
    {
     "name": "stdout",
     "output_type": "stream",
     "text": [
      "17.55276803048983 306.62072109293183 35.9706222268895 3.5908511787784225\n"
     ]
    },
    {
     "data": {
      "text/plain": [
       "[<matplotlib.lines.Line2D at 0x7fa0d8355450>]"
      ]
     },
     "execution_count": 11,
     "metadata": {},
     "output_type": "execute_result"
    },
    {
     "data": {
      "image/png": "[encoded data removed]",
      "text/plain": [
       "<Figure size 640x480 with 1 Axes>"
      ]
     },
     "metadata": {},
     "output_type": "display_data"
    }
   ],
   "source": [
    "fit_a, fit_b, fit_loc, fit_scale = truncnorm.fit(dataset_pd['output_len'])\n",
    "\n",
    "print(fit_a, fit_b, fit_loc, fit_scale)\n",
    "x = np.linspace(0, 1024, 1024)\n",
    "plt.plot(x, truncnorm.pdf(x, fit_a, fit_b, fit_loc, fit_scale),\n",
    "         'r-', lw=5, alpha=0.6, label='truncnorm pdf')"
   ]
  }
 ],
 "metadata": {
  "kernelspec": {
   "display_name": "Python 3",
   "language": "python",
   "name": "python3"
  },
  "language_info": {
   "codemirror_mode": {
    "name": "ipython",
    "version": 3
   },
   "file_extension": ".py",
   "mimetype": "text/x-python",
   "name": "python",
   "nbconvert_exporter": "python",
   "pygments_lexer": "ipython3",
   "version": "3.10.6"
  },
  "orig_nbformat": 4
 },
 "nbformat": 4,
 "nbformat_minor": 2
}
